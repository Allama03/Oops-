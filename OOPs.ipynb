{
 "cells": [
  {
   "cell_type": "markdown",
   "id": "c72fd988-d296-4184-9e16-e4c8cf5e856e",
   "metadata": {},
   "source": [
    "## Python Oops Questions\n"
   ]
  },
  {
   "cell_type": "markdown",
   "id": "01764537-df5c-42a9-973b-1efa474ebd45",
   "metadata": {},
   "source": [
    "### Theoretical Question"
   ]
  },
  {
   "cell_type": "markdown",
   "id": "024c1c34-4213-4260-a29b-ffe615ddc887",
   "metadata": {},
   "source": [
    "1.  #### What is Object-Oriented Programming (OOP)?\n",
    "    - Object-Oriented Programming (OOP) is a programming paradigm that organizes software design around data,\n",
    "  or objects, rather than functions and logic. Here's a breakdown of what that means:\n",
    "\n",
    "     ##### Key Concepts of OOP\n",
    "    - Classes – A blueprint for creating objects.\n",
    "    - Objects – Instances of classes that contain data and methods.\n",
    "    - Encapsulation – Hiding the internal state of an object and only allowing controlled access.\n",
    "    - Abstraction – Simplifying complex systems by only exposing essential details.\n",
    "    - Inheritance – Allowing a class to derive properties and behavior from another class.\n",
    "    - Polymorphism – Enabling one interface to be used for different data types."
   ]
  },
  {
   "cell_type": "markdown",
   "id": "7710d156-3935-4370-91f6-bd8449c171a3",
   "metadata": {},
   "source": [
    "2. #### What is a class in OOP?\n",
    "   - In Object-Oriented Programming (OOP), a class is a blueprint for creating objects. It defines the attributes (data) and methods (functions) that the objects created from it will have.\n",
    "\n",
    "    ##### Key Concepts:\n",
    "   - Attributes (Instance Variables): These store the data or state of an object.\n",
    "   - Methods: These define behaviors or actions that objects can perform.\n",
    "   - Objects (Instances): Individual entities created based on the class."
   ]
  },
  {
   "cell_type": "markdown",
   "id": "7273114c-ed89-4862-af70-bfb5e40cbfee",
   "metadata": {},
   "source": [
    "3. #### What is an object in OOP?\n",
    "   - In Object-Oriented Programming (OOP), an object is an instance of a class. It is a real-world entity that has state (attributes) and behavior (methods). Objects allow us to use the structure defined in a class to create and manipulate data in a meaningful way."
   ]
  },
  {
   "cell_type": "markdown",
   "id": "d6098b4c-4d07-453b-a6cd-0465e19a456c",
   "metadata": {},
   "source": [
    "4. #### What is the difference between abstraction and encapsulation?\n",
    "     ##### Abstraction\n",
    "    - Abstraction is the process of hiding the implementation details of a system and exposing only the necessary features. It allows users to interact with the system without understanding the complexities of how it works.\n",
    "    - Purpose:\n",
    "The main goal of abstraction is to reduce complexity and improve code readability by showing only the essential details to the user.\n",
    "\n",
    "     ##### Encapsulation\n",
    "    - Encapsulation is the process of bundling data (variables) and methods (functions) into a single unit, while restricting direct access to some details. It is used to protect data from unintended modification.\n",
    "    - Purpose:\n",
    "The main goal of encapsulation is data protection and ensuring controlled access to class members."
   ]
  },
  {
   "cell_type": "markdown",
   "id": "d92f4c95-2c67-426c-8fdc-89c4c9f6e0e5",
   "metadata": {},
   "source": [
    "5. #### What are dunder methods in Python?\n",
    "   - Dunder methods stands for d-under(double underscore) are special methods in Python that start and end with double underscores (__method__). They are also known as magic methods because they enable built-in behaviors for objects.\n",
    "\n",
    "These methods allow customization of how objects behave in different situations, such as initialization, string representation, arithmetic operations, comparisons, and more.\n",
    "\n"
   ]
  },
  {
   "cell_type": "markdown",
   "id": "e26ce69a-9ba2-47d9-a9aa-ee373ba89a4d",
   "metadata": {},
   "source": [
    "6. #### Explain the concept of inheritance in OOPs.\n",
    "    ##### Inheritance in OOP\n",
    "   - Inheritance is one of the fundamental concepts of Object-Oriented Programming (OOP). It allows a child class (also called a subclass) to inherit the attributes and methods of a parent class (also called a superclass). This promotes code reuse, organization, and hierarchy.\n",
    "\n",
    "    ##### Why Use Inheritance?\n",
    "   - Code Reusability – Avoids duplication by reusing existing code.\n",
    "   - Hierarchy and Organization – Establishes relationships between classes.\n",
    "   - Extensibility – Enables modifications and enhancements in derived classes.\n",
    "   - Polymorphism Support – Allows child classes to modify or extend parent class behavior.   - "
   ]
  },
  {
   "cell_type": "markdown",
   "id": "83e34a3d-e1c0-4d79-8b59-e970c71e0bb6",
   "metadata": {},
   "source": [
    "7. #### What is polymorphism in OOP?\n",
    "   - Polymorphism is a fundamental concept in Object-Oriented Programming (OOP) that allows objects of different classes to be treated as objects of a common base class. The term \"polymorphism\" means \"many forms\", indicating that the same function or method can have different behaviors depending on the object it is acting upon.\n",
    "   "
   ]
  },
  {
   "cell_type": "markdown",
   "id": "ae200391-32f7-476b-8112-0a036cdd8cfb",
   "metadata": {},
   "source": [
    "8. #### How is encapsulation achieved in Python?\n",
    "    ##### Encapsulation in Python\n",
    "   - Encapsulation is one of the fundamental concepts of Object-Oriented Programming (OOP). It is the practice of bundling data (attributes) and methods (functions) that operate on that data into a single unit (class) and restricting direct access to some of the object's details.\n",
    "\n",
    "    ##### Why Use Encapsulation?\n",
    "   - Data Hiding – Prevents unintended modification of data.\n",
    "   - Security – Protects data from direct external access.\n",
    "   - Code Maintainability – Keeps implementation details private.\n",
    "   - Encapsulated Methods – Allows controlled access through getters and setters.\n"
   ]
  },
  {
   "cell_type": "markdown",
   "id": "b10a4a96-11e7-4599-86d7-1b2674694014",
   "metadata": {},
   "source": [
    "9. #### What is a constructor in Python?\n",
    "     ##### Constructor in Python\n",
    "    - A constructor is a special method in a class that gets called automatically when an object of the class is created. In Python, the constructor method is __init__().\n",
    "\n"
   ]
  },
  {
   "cell_type": "markdown",
   "id": "a0b27890-3a99-4698-9242-409f5eac87a6",
   "metadata": {},
   "source": [
    "10. #### What are class and static methods in Python?\n",
    "     #### Class Methods (@classmethod)\n",
    "    - A class method operates on the class level, not on individual instances. It can modify class attributes and is useful when we need to work with the class itself rather than instance attributes.\n",
    "\n",
    "     ###### Key Features of Class Methods\n",
    "    - Can access and modify class variables\n",
    "    - Works on the class itself instead of instances\n",
    "    - Uses cls (convention) as the first parameter instead of self\n",
    "\n",
    "     #### Static Methods (@staticmethod)\n",
    "    - A static method does not modify the class or instance. It behaves like a normal function inside a class but is logically related to the class.\n",
    "\n",
    "     ###### Key Features of Static Methods\n",
    "    - Does not access instance (self) or class (cls) variables\n",
    "    - Works like a regular function inside a class\n",
    "    - Used when a method is related to the class but does not need access to its attributes"
   ]
  },
  {
   "cell_type": "markdown",
   "id": "93058642-e35e-4cca-891f-46db37eb4261",
   "metadata": {},
   "source": [
    "11. #### What is method overloading in Python?\n",
    "    - Method Overloading in Python\n",
    "    -Method overloading is a feature in Object-Oriented Programming (OOP) where multiple methods with the same name but different parameters exist within a class. This allows a function to behave differently based on the arguments passed.\n",
    "\n",
    "    - However, Python does not support true method overloading like other languages (e.g., Java, C++). Instead, we can achieve similar functionality using default arguments, *args, and **kwargs."
   ]
  },
  {
   "cell_type": "markdown",
   "id": "9f9058f5-e204-4b48-b182-6537218d25bd",
   "metadata": {},
   "source": [
    "12. #### What is method overriding in OOP?\n",
    "     ###### Method Overriding in OOP\n",
    "    - Method overriding is an OOP feature where a subclass provides a new implementation for a method that is already defined in its parent class. This allows a subclass to customize or extend the behavior of an inherited method.\n",
    "\n"
   ]
  },
  {
   "cell_type": "markdown",
   "id": "ea54ce69-114f-4553-818a-4aa7d35ddc83",
   "metadata": {},
   "source": [
    "13. #### What is a property decorator in Python?\n",
    "    ###### Property Decorator in Python (@property)\n",
    "    - The property decorator (@property) in Python allows us to define getter, setter, and deleter methods for class attributes in an elegant and controlled way. It helps implement encapsulation by restricting direct access to attributes while still allowing controlled interactions.\n",
    "\n"
   ]
  },
  {
   "cell_type": "markdown",
   "id": "66ec0df0-3e9e-4b3c-abc9-0b4d4667685f",
   "metadata": {},
   "source": [
    "14. #### Why is Polymorphism Important in OOP?\n",
    "    - Polymorphism is one of the four key principles of Object-Oriented Programming (OOP) (along with Encapsulation, Inheritance, and Abstraction). It allows objects of different classes to be treated as if they belong to the same class, improving code reusability, flexibility, and maintainability.\n",
    "\n",
    "    - Code Reusability: Reduces duplication by applying code to different objects.\n",
    "    - Flexibility: Adapts to various situations without code changes.\n",
    "    - Readability & Maintainability: Simplifies code, making it easier to understand and modify.\n",
    "    - Real-World Applications: Essential in diverse industries for handling varied data types.\n",
    "    - Efficient Error Handling: Enhances robustness by managing errors more effectively."
   ]
  },
  {
   "cell_type": "markdown",
   "id": "00382ca3-8ceb-4026-8bb0-453f7f567697",
   "metadata": {},
   "source": [
    "15. #### What is an abstract class in Python?\n",
    "    ###### Abstract Class in Python\n",
    "    - An abstract class in Python is a class that cannot be instantiated and is used as a blueprint for other classes. It contains abstract methods, which are methods that must be implemented in derived (child) classes.\n",
    "\n",
    "    - Python provides abstract classes using the ABC (Abstract Base Class) module from the abc package.\n",
    "\n",
    "\n"
   ]
  },
  {
   "cell_type": "markdown",
   "id": "bb95ec23-3ee7-4d33-9d5a-e46db4f9c632",
   "metadata": {},
   "source": [
    "16. #### What are the advantages of OOP?\n",
    "    ##### Advantages of OOP\n",
    "    ##### Modularity and Reusability:\n",
    "\n",
    "    - OOP allows developers to break down complex systems into smaller, manageable modules (objects) that can be reused across different parts of the program, reducing code duplication and improving efficiency.\n",
    "\n",
    "    ##### Improved Collaboration:\n",
    "\n",
    "    - By dividing a system into self-contained objects, multiple developers can work on different parts simultaneously without interfering with each other's work.\n",
    "\n",
    "    ##### Enhanced Security:\n",
    "\n",
    "    - Encapsulation in OOP ensures that data is bundled with methods that operate on it, providing controlled access and minimizing the risk of data corruption.\n",
    "\n",
    "    ##### Flexibility and Scalability:\n",
    "\n",
    "    - OOP's use of polymorphism and inheritance allows for easy modification and extension of existing code without affecting other parts of the system, making it highly adaptable to changing requirements.\n",
    "\n",
    "    ##### Simplified Debugging and Maintenance:\n",
    "\n",
    "    - The modular nature of OOP makes it easier to identify and fix bugs, as changes can be isolated to specific objects or classes without impacting the entire system.\n",
    "\n",
    "    ##### Better Productivity:\n",
    "\n",
    "    - OOP promotes faster development and higher productivity by enabling developers to focus on specific components of a system independently.\n",
    "\n",
    "    ##### Abstraction:\n",
    "\n",
    "    - OOP models complex systems in a simplified manner, focusing on essential features and behaviors, which helps in creating intuitive and maintainable code\n"
   ]
  },
  {
   "cell_type": "markdown",
   "id": "39d3b396-c941-4d94-8a83-f6cd7d99c66c",
   "metadata": {},
   "source": [
    "17. #### What is the difference between a class variable and an instance variable?\n",
    "    #### Class Variable\n",
    "    - A class variable is shared by all instances of a class. It is defined outside methods and belongs to the class itself, meaning that changing it affects all instances.\n",
    "\n",
    "    ##### Characteristics of Class Variables:\n",
    "    - Shared among all instances of the class.\n",
    "    - Defined outside the constructor (__init__).\n",
    "    - Changes to the variable affect all instances.\n",
    "\n",
    "    #### Instance Variable\n",
    "    - An instance variable is unique to each object. It is defined inside the constructor (__init__) using self, meaning that each instance can have its own separate values.\n",
    "    ##### Characteristics of Instance Variables:\n",
    "    - Specific to each instance of a class.\n",
    "    - Defined inside the constructor using self.\n",
    "    - Changes to an instance variable affect only that particular object."
   ]
  },
  {
   "cell_type": "markdown",
   "id": "2b0614c6-991a-4abd-9008-eef7239ee406",
   "metadata": {},
   "source": [
    "18. #### What is multiple inheritance in Python?\n",
    "    #### Multiple Inheritance in Python\n",
    "    - Multiple inheritance allows a class to inherit from more than one parent class, enabling it to acquire attributes and methods from multiple sources.\n",
    "\n",
    "    ##### Features of Multiple Inheritance\n",
    "    - A child class can inherit from two or more parent classes.\n",
    "    - The child class gains access to all methods and attributes of the parent classes.\n",
    "    - Useful when an object needs functionalities from multiple sources.\n"
   ]
  },
  {
   "cell_type": "markdown",
   "id": "8495662e-e080-41e1-a662-0884a15f6c18",
   "metadata": {},
   "source": [
    "19. ####  Explain the purpose of ‘’__str__’ and ‘__repr__’ ‘ methods in Python?\n",
    "    #### Purpose of __str__ and __repr__\n",
    "    ##### __str__ Method:\n",
    "\n",
    "    - Purpose: Provides a human-readable string representation of an object, intended for end-users.\n",
    "\n",
    "    - Usage: Called by print(), str(), and string formatting functions like format() or f-strings.\n",
    "\n",
    "    - Output: Should be user-friendly and easy to read.\n",
    "\n",
    "    ##### __repr__ Method:\n",
    "\n",
    "    - Purpose: Offers a detailed, unambiguous string representation of an object, primarily for developers and debugging purposes.\n",
    "\n",
    "    - Usage: Called by repr() and the interactive Python interpreter.\n",
    "\n",
    "    - Output: Should be informative and ideally allow for recreating the object using eval().\n"
   ]
  },
  {
   "cell_type": "markdown",
   "id": "9d703818-64f4-4467-9377-e9e8e8287ee0",
   "metadata": {},
   "source": [
    "20. #### What is the significance of the ‘super()’ function in Python?\n",
    "    - The super() function in Python is significant for accessing parent class methods, especially in inheritance scenarios. It:\n",
    "\n",
    "     - Accesses Parent Methods: Allows child classes to call parent methods without explicitly naming the parent class.\n",
    "\n",
    "     - Follows Method Resolution Order (MRO): Ensures methods are called consistently in multiple inheritance scenarios.\n",
    "\n",
    "     - Avoids Code Duplication: Promotes code reusability by extending parent class behaviors.\n",
    "\n",
    "     - Supports Flexible Class Design: Facilitates changes in the inheritance hierarchy."
   ]
  },
  {
   "cell_type": "markdown",
   "id": "f5a83089-2406-45f7-b808-02995e41d41b",
   "metadata": {},
   "source": [
    "21. #### What is the significance of the __del__ method in Python?\n",
    "    ###### The __del__ method in Python is a special method called when an object is about to be destroyed, typically by the garbage collector. It is used for:\n",
    "\n",
    "    - Resource Cleanup: Releasing external resources like files or network connections.\n",
    "\n",
    "    - Finalization: Performing necessary tasks before object destruction."
   ]
  },
  {
   "cell_type": "markdown",
   "id": "746ccaf8-5dcc-45bf-a268-15dc1719a7f9",
   "metadata": {},
   "source": [
    "22. #### What is the difference between @staticmethod and @classmethod in Python?\n",
    "    ##### Difference Between @staticmethod and @classmethod\n",
    "    ##### Access to Class Data:\n",
    "\n",
    "    - @classmethod: Can access and modify class-level attributes through its first argument cls.\n",
    "\n",
    "    - @staticmethod: Does not have access to class or instance data.\n",
    "\n",
    "    ##### First Argument:\n",
    "\n",
    "    - @classmethod: Takes cls as the first argument, referring to the class itself.\n",
    "\n",
    "    - @staticmethod: Does not have a special first argument; behaves like a regular function.\n",
    "\n",
    "    ##### Use Cases:\n",
    "\n",
    "    - @classmethod: Often used for factory methods or modifying class-level attributes.\n",
    "\n",
    "    - @staticmethod: Used for utility functions related to the class but not requiring access to class or instance data.\n",
    "\n",
    "    ##### Method Call:\n",
    "\n",
    "    - Both can be called on the class itself without creating an instance."
   ]
  },
  {
   "cell_type": "markdown",
   "id": "17048fc0-b87b-424d-92e5-d31a8a05f68e",
   "metadata": {},
   "source": [
    "23. #### How does polymorphism work in Python with inheritance?\n",
    "    ##### Polymorphism with Inheritance\n",
    "    - Polymorphism in Python, combined with inheritance, allows objects of different subclasses to be treated as objects of a common superclass. This enables flexibility and code reusability.\n",
    "\n",
    "    ##### Method Overriding:\n",
    "\n",
    "    - Subclasses can override methods inherited from a parent class. When a method is called on an object, Python uses the method defined in the object’s own class.\n",
    "\n",
    "    ##### Key Features:\n",
    "\n",
    "    - Method Resolution: Python resolves methods based on the object’s actual class, not the reference type.\n",
    "\n",
    "    - Code Reusability: Functions can handle objects of any subclass, reducing redundancy.\n",
    "\n",
    "    - Extensibility: New subclasses can be added without modifying existing code.\n",
    "\n",
    "    ##### Real-World Use Cases:\n",
    "\n",
    "    - Game Characters: Characters can share a common interface but behave differently.\n",
    "\n",
    "    - Data Processing: Subclasses can override methods to handle different data formats.\n",
    "\n",
    "    ##### Handling Complex Inheritance:\n",
    "\n",
    "    - Python uses the Method Resolution Order (MRO) to resolve conflicts in multiple inheritance scenarios.\n",
    "\n"
   ]
  },
  {
   "cell_type": "markdown",
   "id": "9261674a-5e9b-447a-8e36-e219636e732c",
   "metadata": {},
   "source": [
    "24. #### What is method chaining in Python OOP?\n",
    "    - Method Chaining in Python OOP is a technique where multiple methods are called sequentially on an object in a single line. Each method returns self, allowing the next method to be called immediately.\n",
    "\n",
    "    ##### Key Features:\n",
    "\n",
    "    - Concise Code: Reduces intermediate variables.\n",
    "\n",
    "    - Improved Readability: Enhances code clarity with sequential operations.\n",
    "\n",
    "    - Example: Pandas data manipulation, where methods like filter(), groupby(), and agg() are chained together.\n",
    "\n",
    "     ##### Benefits: Simplifies code and improves readability."
   ]
  },
  {
   "cell_type": "markdown",
   "id": "071c1b97-1ee4-4e39-aeb7-d1d29f34f288",
   "metadata": {},
   "source": [
    "25. ####  What is the purpose of the __call__ method in Python?\n",
    "    #### Purpose of the __call__ Method in Python\n",
    "    - The __call__ method in Python allows an instance of a class to be invoked like a function. This means that an object can behave both as a function and a stateful entity.\n",
    "\n",
    "    #### Characteristics of __call__ Method\n",
    "    - Enables an object to be called as a function.\n",
    "    - Maintains state across multiple calls within a class instance.\n",
    "    - Enhances code flexibility by combining object-oriented and functional programming.\n",
    "    #### Use Cases of __call__\n",
    "    - Implementing function-like objects that retain internal state.\n",
    "    - Creating dynamic and reusable APIs.\n",
    "    - Designing event handlers, decorators, or caching mechanisms.\n",
    "    #### Advantages of __call__\n",
    "    - Encapsulation – Keeps related logic within a class.\n",
    "    - Reusability – Allows objects to be reused like functions.\n",
    "    - Flexibility – Makes classes more dynamic and interactive.\n",
    "\n"
   ]
  },
  {
   "cell_type": "markdown",
   "id": "db6de046-a5a5-40d4-8f6e-fd22ccccb0b5",
   "metadata": {},
   "source": [
    "### Practical Questions"
   ]
  },
  {
   "cell_type": "markdown",
   "id": "fda4d811-bf81-40e6-8d60-05753b4f90b7",
   "metadata": {},
   "source": [
    "1. #####  Create a parent class Animal with a method speak() that prints a generic message. Create a child class Dog that overrides the speak() method to print \"Bark!\".\n"
   ]
  },
  {
   "cell_type": "code",
   "execution_count": 10,
   "id": "932f96c9-6fe5-4f40-bb26-2d9fd18f376c",
   "metadata": {},
   "outputs": [
    {
     "name": "stdout",
     "output_type": "stream",
     "text": [
      "Generic animal sound\n",
      "Bark\n"
     ]
    }
   ],
   "source": [
    "# Answer \n",
    "# Code\n",
    "\n",
    "class Animal:             # Making class Animal: \n",
    "    def speak(self):\n",
    "        print(\"Generic animal sound\")\n",
    "\n",
    "class Dog(Animal):         # Making class Dog(Animal),  inheriting Animal class which is our Parent class \n",
    "    def speak(self):\n",
    "        print(\"Bark\")\n",
    "\n",
    "\n",
    "# Creating instances\n",
    "\n",
    "a = Animal()\n",
    "a.speak()         # Output: \"Generic animal sound\"\n",
    "\n",
    "\n",
    "d = Dog()\n",
    "d.speak()         # Output: Bark! "
   ]
  },
  {
   "cell_type": "markdown",
   "id": "3802f80b-0b01-43ad-b29c-e9b1a0d5f7a7",
   "metadata": {},
   "source": [
    "2. #### Write a program to create an abstract class Shape with a method area(). Derive classes Circle and Rectangle from it and implement the area() method in both.\n"
   ]
  },
  {
   "cell_type": "code",
   "execution_count": 1,
   "id": "911917dd-0b5e-4dd0-846b-836776f1f952",
   "metadata": {},
   "outputs": [
    {
     "name": "stdout",
     "output_type": "stream",
     "text": [
      "Circle Area: 78.54\n",
      "Rectangle Area: 24\n"
     ]
    }
   ],
   "source": [
    "# Answer \n",
    "# Code\n",
    "\n",
    "from abc import ABC, abstractmethod\n",
    "\n",
    "class Shape(ABC):\n",
    "    @abstractmethod\n",
    "    def area(self):\n",
    "        pass\n",
    "\n",
    "class Circle(Shape):\n",
    "    def __init__(self, radius):\n",
    "        self.radius = radius\n",
    "    \n",
    "    def area(self):\n",
    "        return 3.1416 * self.radius * self.radius\n",
    "\n",
    "class Rectangle(Shape):\n",
    "    def __init__(self, length, width):\n",
    "        self.length = length\n",
    "        self.width = width\n",
    "    \n",
    "    def area(self):\n",
    "        return self.length * self.width\n",
    "\n",
    "# Example usage\n",
    "circle = Circle(5)\n",
    "rectangle = Rectangle(4, 6)\n",
    "\n",
    "print(\"Circle Area:\", circle.area())\n",
    "print(\"Rectangle Area:\", rectangle.area())\n"
   ]
  },
  {
   "cell_type": "markdown",
   "id": "4aefdccf-3d87-4d05-8546-0aae1bd24bed",
   "metadata": {},
   "source": [
    "3. ####  Implement a multi-level inheritance scenario where a class Vehicle has an attribute type. Derive a class Car and further derive a class ElectricCar that adds a battery attribute.\n"
   ]
  },
  {
   "cell_type": "code",
   "execution_count": 2,
   "id": "36d6685a-8187-4fc0-a767-317db88c3bf0",
   "metadata": {},
   "outputs": [
    {
     "name": "stdout",
     "output_type": "stream",
     "text": [
      "Type of vehicle: Car\n",
      "2024 Tesla Model S (Car)\n",
      "Battery size: 100 kWh\n"
     ]
    }
   ],
   "source": [
    "# Answer\n",
    "# Code\n",
    "\n",
    "class Vehicle:\n",
    "    def __init__(self, vehicle_type):\n",
    "        self.vehicle_type = vehicle_type  # General vehicle type (e.g., \"Car\", \"Truck\", \"Bike\")\n",
    "\n",
    "    def get_vehicle_type(self):\n",
    "        return f\"Type of vehicle: {self.vehicle_type}\"\n",
    "\n",
    "class Car(Vehicle):\n",
    "    def __init__(self, vehicle_type, make, model, year):\n",
    "        super().__init__(vehicle_type)  # Call parent class constructor\n",
    "        self.make = make\n",
    "        self.model = model\n",
    "        self.year = year\n",
    "\n",
    "    def get_description(self):\n",
    "        return f\"{self.year} {self.make} {self.model} ({self.vehicle_type})\"\n",
    "\n",
    "class ElectricCar(Car):\n",
    "    def __init__(self, vehicle_type, make, model, year, battery_size):\n",
    "        super().__init__(vehicle_type, make, model, year)  # Call parent class constructor\n",
    "        self.battery_size = battery_size  # Additional attribute for ElectricCar\n",
    "\n",
    "    def get_battery_info(self):\n",
    "        return f\"Battery size: {self.battery_size} kWh\"\n",
    "\n",
    "# Example usage\n",
    "my_tesla = ElectricCar(\"Car\", \"Tesla\", \"Model S\", 2024, 100)\n",
    "\n",
    "print(my_tesla.get_vehicle_type())  # Output: Type of vehicle: Car\n",
    "print(my_tesla.get_description())   # Output: 2024 Tesla Model S (Car)\n",
    "print(my_tesla.get_battery_info())  # Output: Battery size: 100 kWh\n"
   ]
  },
  {
   "cell_type": "markdown",
   "id": "1637f01d-f0f9-40e9-8435-c21f4f77c882",
   "metadata": {},
   "source": [
    "4. #### Demonstrate polymorphism by creating a base class Bird with a method fly(). Create two derived classes Sparrow and Penguin that override the fly() method.\n",
    "\n"
   ]
  },
  {
   "cell_type": "code",
   "execution_count": 3,
   "id": "248fc174-a6fb-4c68-81c5-84c048a19395",
   "metadata": {},
   "outputs": [
    {
     "name": "stdout",
     "output_type": "stream",
     "text": [
      "Sparrow flies high in the sky!\n",
      "Penguins cannot fly, but they swim really well!\n"
     ]
    }
   ],
   "source": [
    "# Answer \n",
    "# Code\n",
    "\n",
    "class Bird:\n",
    "    def fly(self):\n",
    "        return \"Some birds can fly.\"\n",
    "\n",
    "class Sparrow(Bird):\n",
    "    def fly(self):\n",
    "        return \"Sparrow flies high in the sky!\"\n",
    "\n",
    "class Penguin(Bird):\n",
    "    def fly(self):\n",
    "        return \"Penguins cannot fly, but they swim really well!\"\n",
    "\n",
    "# Function to demonstrate polymorphism\n",
    "def bird_flight_test(bird):\n",
    "    print(bird.fly())\n",
    "\n",
    "# Creating objects\n",
    "sparrow = Sparrow()\n",
    "penguin = Penguin()\n",
    "\n",
    "# Testing polymorphism\n",
    "bird_flight_test(sparrow)  # Output: Sparrow flies high in the sky!\n",
    "bird_flight_test(penguin)   # Output: Penguins cannot fly, but they swim really well!\n"
   ]
  },
  {
   "cell_type": "markdown",
   "id": "b7cce069-462b-4f5e-b6e2-b2c51f3e9f2a",
   "metadata": {},
   "source": [
    "5. #### Write a program to demonstrate encapsulation by creating a class BankAccount with private attributes balance and methods to deposit, withdraw, and check balance.\n"
   ]
  },
  {
   "cell_type": "code",
   "execution_count": 4,
   "id": "bf338201-223d-45c7-bcef-f39fdb66db91",
   "metadata": {},
   "outputs": [
    {
     "name": "stdout",
     "output_type": "stream",
     "text": [
      "Deposited: $50. New balance: $150\n",
      "Withdrawn: $30. New balance: $120\n",
      "Current balance: $120\n"
     ]
    }
   ],
   "source": [
    "# Answer\n",
    "# Code\n",
    "\n",
    "class BankAccount:\n",
    "    def __init__(self, initial_balance=0):\n",
    "        self.__balance = initial_balance  # Private attribute (Encapsulation)\n",
    "\n",
    "    def deposit(self, amount):\n",
    "        if amount > 0:\n",
    "            self.__balance += amount\n",
    "            return f\"Deposited: ${amount}. New balance: ${self.__balance}\"\n",
    "        return \"Deposit amount must be positive.\"\n",
    "\n",
    "    def withdraw(self, amount):\n",
    "        if 0 < amount <= self.__balance:\n",
    "            self.__balance -= amount\n",
    "            return f\"Withdrawn: ${amount}. New balance: ${self.__balance}\"\n",
    "        return \"Insufficient balance or invalid amount.\"\n",
    "\n",
    "    def check_balance(self):\n",
    "        return f\"Current balance: ${self.__balance}\"\n",
    "\n",
    "# Example usage\n",
    "my_account = BankAccount(100)  # Initial balance of $100\n",
    "\n",
    "print(my_account.deposit(50))    # Output: Deposited: $50. New balance: $150\n",
    "print(my_account.withdraw(30))   # Output: Withdrawn: $30. New balance: $120\n",
    "print(my_account.check_balance())  # Output: Current balance: $120\n",
    "\n",
    "# Attempt to access private attribute (will cause an error)\n",
    "# print(my_account.__balance)  # AttributeError: 'BankAccount' object has no attribute '__balance'\n"
   ]
  },
  {
   "cell_type": "markdown",
   "id": "269d1799-0302-440f-900d-12aeb7bf70a6",
   "metadata": {},
   "source": [
    "6. #### Demonstrate runtime polymorphism using a method play() in a base class Instrument. Derive classes Guitar and Piano that implement their own version of play()."
   ]
  },
  {
   "cell_type": "code",
   "execution_count": 5,
   "id": "55769d99-b57e-4018-96db-6bc97487ce46",
   "metadata": {},
   "outputs": [
    {
     "name": "stdout",
     "output_type": "stream",
     "text": [
      "Strumming the guitar!\n",
      "Playing the piano keys!\n"
     ]
    }
   ],
   "source": [
    "# Answer\n",
    "# Code\n",
    "\n",
    "class Instrument:\n",
    "    def play(self):\n",
    "        return \"Playing an instrument...\"\n",
    "\n",
    "class Guitar(Instrument):\n",
    "    def play(self):\n",
    "        return \"Strumming the guitar!\"\n",
    "\n",
    "class Piano(Instrument):\n",
    "    def play(self):\n",
    "        return \"Playing the piano keys!\"\n",
    "\n",
    "# Function to demonstrate runtime polymorphism\n",
    "def play_music(instrument):\n",
    "    print(instrument.play())\n",
    "\n",
    "# Creating objects\n",
    "guitar = Guitar()\n",
    "piano = Piano()\n",
    "\n",
    "# Demonstrating runtime polymorphism\n",
    "play_music(guitar)  # Output: Strumming the guitar!\n",
    "play_music(piano)   # Output: Playing the piano keys!\n"
   ]
  },
  {
   "cell_type": "markdown",
   "id": "631e5bd8-32fd-446c-b5c7-77eb88491522",
   "metadata": {},
   "source": [
    "7. #### Create a class MathOperations with a class method add_numbers() to add two numbers and a static method subtract_numbers() to subtract two numbers."
   ]
  },
  {
   "cell_type": "code",
   "execution_count": 6,
   "id": "8e3739be-f027-4472-89be-b797507fc24f",
   "metadata": {},
   "outputs": [
    {
     "name": "stdout",
     "output_type": "stream",
     "text": [
      "15\n",
      "5\n"
     ]
    }
   ],
   "source": [
    "# Answer \n",
    "# Code\n",
    "\n",
    "class MathOperations:\n",
    "    @classmethod\n",
    "    def add_numbers(cls, a, b):\n",
    "        return a + b\n",
    "\n",
    "    @staticmethod\n",
    "    def subtract_numbers(a, b):\n",
    "        return a - b\n",
    "\n",
    "# Example usage\n",
    "print(MathOperations.add_numbers(10, 5))   # Output: 15\n",
    "print(MathOperations.subtract_numbers(10, 5))  # Output: 5\n",
    "\n"
   ]
  },
  {
   "cell_type": "markdown",
   "id": "d65962d3-7473-45a3-984c-5aabd13279f5",
   "metadata": {},
   "source": [
    "8. #### Implement a class Person with a class method to count the total number of persons created."
   ]
  },
  {
   "cell_type": "code",
   "execution_count": 7,
   "id": "2d84c40c-1f85-409d-af82-dc17ab033508",
   "metadata": {},
   "outputs": [
    {
     "name": "stdout",
     "output_type": "stream",
     "text": [
      "Total persons created: 3\n"
     ]
    }
   ],
   "source": [
    "# Answer\n",
    "# Code\n",
    "\n",
    "class Person:\n",
    "    count = 0  # Class variable to keep track of the number of persons\n",
    "\n",
    "    def __init__(self, name):\n",
    "        self.name = name\n",
    "        Person.count += 1  # Increment count when a new object is created\n",
    "\n",
    "    @classmethod\n",
    "    def total_persons(cls):\n",
    "        return f\"Total persons created: {cls.count}\"\n",
    "\n",
    "# Example usage\n",
    "p1 = Person(\"Alice\")\n",
    "p2 = Person(\"Bob\")\n",
    "p3 = Person(\"Charlie\")\n",
    "\n",
    "print(Person.total_persons())  # Output: Total persons created: 3\n"
   ]
  },
  {
   "cell_type": "markdown",
   "id": "d436b3ef-d3a8-4be3-a4a7-21db6a1ba801",
   "metadata": {},
   "source": [
    "9. #### Write a class Fraction with attributes numerator and denominator. Override the str method to display the fraction as \"numerator/denominator\"."
   ]
  },
  {
   "cell_type": "code",
   "execution_count": 8,
   "id": "1d589465-3f4f-4a96-8e12-84099ff64b71",
   "metadata": {},
   "outputs": [
    {
     "name": "stdout",
     "output_type": "stream",
     "text": [
      "3/4\n",
      "5/8\n"
     ]
    }
   ],
   "source": [
    "# Answer\n",
    "# Code\n",
    "\n",
    "class Fraction:\n",
    "    def __init__(self, numerator, denominator):\n",
    "        if denominator == 0:\n",
    "            raise ValueError(\"Denominator cannot be zero.\")  # Prevent division by zero\n",
    "        self.numerator = numerator\n",
    "        self.denominator = denominator\n",
    "\n",
    "    def __str__(self):\n",
    "        return f\"{self.numerator}/{self.denominator}\"\n",
    "\n",
    "# Example usage\n",
    "f1 = Fraction(3, 4)\n",
    "f2 = Fraction(5, 8)\n",
    "\n",
    "print(f1)  # Output: 3/4\n",
    "print(f2)  # Output: 5/8\n"
   ]
  },
  {
   "cell_type": "markdown",
   "id": "e3202b8f-d1f5-4408-a9a3-a50b0d30223e",
   "metadata": {},
   "source": [
    "10. #### Demonstrate operator overloading by creating a class Vector and overriding the add method to add two vectors."
   ]
  },
  {
   "cell_type": "code",
   "execution_count": 9,
   "id": "2fc3479d-1c07-442b-85e4-8a923df6cbd4",
   "metadata": {},
   "outputs": [
    {
     "name": "stdout",
     "output_type": "stream",
     "text": [
      "(3, 4)\n",
      "(1, 2)\n",
      "(4, 6)\n"
     ]
    }
   ],
   "source": [
    "# Answer\n",
    "# Code\n",
    "\n",
    "class Vector:\n",
    "    def __init__(self, x, y):\n",
    "        self.x = x\n",
    "        self.y = y\n",
    "\n",
    "    def __add__(self, other):\n",
    "        if not isinstance(other, Vector):\n",
    "            return NotImplemented\n",
    "        return Vector(self.x + other.x, self.y + other.y)\n",
    "\n",
    "    def __str__(self):\n",
    "        return f\"({self.x}, {self.y})\"\n",
    "\n",
    "# Example usage\n",
    "v1 = Vector(3, 4)\n",
    "v2 = Vector(1, 2)\n",
    "v3 = v1 + v2  # Calls __add__\n",
    "\n",
    "print(v1)  # Output: (3, 4)\n",
    "print(v2)  # Output: (1, 2)\n",
    "print(v3)  # Output: (4, 6)\n"
   ]
  },
  {
   "cell_type": "markdown",
   "id": "2fa0db51-e04b-4995-b9ad-2e1b1c2b857f",
   "metadata": {},
   "source": [
    "11. #### Create a class Person with attributes name and age. Add a method greet() that prints \"Hello, my name is {name} and I am {age} years old.\""
   ]
  },
  {
   "cell_type": "code",
   "execution_count": 10,
   "id": "192a55b1-c865-4590-bdb8-c44ceea8a012",
   "metadata": {},
   "outputs": [
    {
     "name": "stdout",
     "output_type": "stream",
     "text": [
      "Hello, my name is Alice and I am 25 years old.\n",
      "Hello, my name is Bob and I am 30 years old.\n"
     ]
    }
   ],
   "source": [
    "# Answer\n",
    "# Code\n",
    "\n",
    "class Person:\n",
    "    def __init__(self, name, age):\n",
    "        self.name = name\n",
    "        self.age = age\n",
    "\n",
    "    def greet(self):\n",
    "        print(f\"Hello, my name is {self.name} and I am {self.age} years old.\")\n",
    "\n",
    "# Example usage\n",
    "person1 = Person(\"Alice\", 25)\n",
    "person2 = Person(\"Bob\", 30)\n",
    "\n",
    "person1.greet()  # Output: Hello, my name is Alice and I am 25 years old.\n",
    "person2.greet()  # Output: Hello, my name is Bob and I am 30 years old.\n"
   ]
  },
  {
   "cell_type": "markdown",
   "id": "98f4ea65-7e6f-4a04-a2eb-a19cc66af50b",
   "metadata": {},
   "source": [
    "12. #### Implement a class Student with attributes name and grades. Create a method average_grade() to compute the average of the grades."
   ]
  },
  {
   "cell_type": "code",
   "execution_count": 11,
   "id": "f69f5a4f-0815-4097-81ac-183dbfe8c8ca",
   "metadata": {},
   "outputs": [
    {
     "name": "stdout",
     "output_type": "stream",
     "text": [
      "Student: Alice, Average Grade: 86.25\n",
      "Student: Bob, Average Grade: 87.00\n"
     ]
    }
   ],
   "source": [
    "# Answer\n",
    "# Code\n",
    "\n",
    "class Student:\n",
    "    def __init__(self, name, grades):\n",
    "        self.name = name\n",
    "        self.grades = grades  # List of grades\n",
    "\n",
    "    def average_grade(self):\n",
    "        if not self.grades:\n",
    "            return \"No grades available.\"\n",
    "        return sum(self.grades) / len(self.grades)  # Compute average\n",
    "\n",
    "    def __str__(self):\n",
    "        return f\"Student: {self.name}, Average Grade: {self.average_grade():.2f}\"\n",
    "\n",
    "# Example usage\n",
    "student1 = Student(\"Alice\", [85, 90, 78, 92])\n",
    "student2 = Student(\"Bob\", [88, 76, 95, 89])\n",
    "\n",
    "print(student1)  # Output: Student: Alice, Average Grade: 86.25\n",
    "print(student2)  # Output: Student: Bob, Average Grade: 87.00\n"
   ]
  },
  {
   "cell_type": "markdown",
   "id": "2c2ca830-cb22-4bc5-ad79-8e85c80c33ff",
   "metadata": {},
   "source": [
    "13. #### Create a class Rectangle with methods set_dimensions() to set the dimensions and area() to calculate the area."
   ]
  },
  {
   "cell_type": "code",
   "execution_count": 12,
   "id": "802d1d46-c8b0-4829-9dfa-495dafb2113a",
   "metadata": {},
   "outputs": [
    {
     "name": "stdout",
     "output_type": "stream",
     "text": [
      "Rectangle (Length: 5, Width: 10, Area: 50)\n"
     ]
    }
   ],
   "source": [
    "# Answer\n",
    "# Code\n",
    "\n",
    "class Rectangle:\n",
    "    def __init__(self, length=0, width=0):\n",
    "        self.length = length\n",
    "        self.width = width\n",
    "\n",
    "    def set_dimensions(self, length, width):\n",
    "        self.length = length\n",
    "        self.width = width\n",
    "\n",
    "    def area(self):\n",
    "        return self.length * self.width\n",
    "\n",
    "    def __str__(self):\n",
    "        return f\"Rectangle (Length: {self.length}, Width: {self.width}, Area: {self.area()})\"\n",
    "\n",
    "# Example usage\n",
    "rect = Rectangle()\n",
    "rect.set_dimensions(5, 10)\n",
    "\n",
    "print(rect)  # Output: Rectangle (Length: 5, Width: 10, Area: 50)\n"
   ]
  },
  {
   "cell_type": "markdown",
   "id": "2e5013d8-1b34-4e48-8bd8-fd153875d9ea",
   "metadata": {},
   "source": [
    "14. #### Create a class Employee with a method calculate_salary() that computes the salary based on hours worked and hourly rate. Create a derived class Manager that adds a bonus to the salary."
   ]
  },
  {
   "cell_type": "code",
   "execution_count": 13,
   "id": "0c2331fd-f74f-47b8-a6cc-4f7841cc547a",
   "metadata": {},
   "outputs": [
    {
     "name": "stdout",
     "output_type": "stream",
     "text": [
      "Employee: Alice, Salary: $800.00\n",
      "Manager: Bob, Salary with Bonus: $1850.00\n"
     ]
    }
   ],
   "source": [
    "# Answer\n",
    "# Code\n",
    "\n",
    "class Employee:\n",
    "    def __init__(self, name, hours_worked, hourly_rate):\n",
    "        self.name = name\n",
    "        self.hours_worked = hours_worked\n",
    "        self.hourly_rate = hourly_rate\n",
    "\n",
    "    def calculate_salary(self):\n",
    "        return self.hours_worked * self.hourly_rate\n",
    "\n",
    "    def __str__(self):\n",
    "        return f\"Employee: {self.name}, Salary: ${self.calculate_salary():.2f}\"\n",
    "\n",
    "class Manager(Employee):\n",
    "    def __init__(self, name, hours_worked, hourly_rate, bonus):\n",
    "        super().__init__(name, hours_worked, hourly_rate)\n",
    "        self.bonus = bonus\n",
    "\n",
    "    def calculate_salary(self):\n",
    "        base_salary = super().calculate_salary()\n",
    "        return base_salary + self.bonus\n",
    "\n",
    "    def __str__(self):\n",
    "        return f\"Manager: {self.name}, Salary with Bonus: ${self.calculate_salary():.2f}\"\n",
    "\n",
    "# Example usage\n",
    "emp = Employee(\"Alice\", 40, 20)  # 40 hours at $20/hour\n",
    "mgr = Manager(\"Bob\", 45, 30, 500)  # 45 hours at $30/hour + $500 bonus\n",
    "\n",
    "print(emp)  # Output: Employee: Alice, Salary: $800.00\n",
    "print(mgr)  # Output: Manager: Bob, Salary with Bonus: $1850.00\n"
   ]
  },
  {
   "cell_type": "markdown",
   "id": "3687f8e1-15a5-425d-9d38-969b2c4fbb94",
   "metadata": {},
   "source": [
    "15. #### Create a class Product with attributes name, price, and quantity. Implement a method total_price() that calculates the total price of the product.\n",
    "\n",
    "\n"
   ]
  },
  {
   "cell_type": "code",
   "execution_count": 14,
   "id": "891a1f3a-5739-4032-8f43-b7bd110f7134",
   "metadata": {},
   "outputs": [
    {
     "name": "stdout",
     "output_type": "stream",
     "text": [
      "Product: Laptop, Price: $800.00, Quantity: 2, Total Cost: $1600.00\n",
      "Product: Phone, Price: $500.00, Quantity: 3, Total Cost: $1500.00\n"
     ]
    }
   ],
   "source": [
    "# Answer \n",
    "# Code\n",
    "\n",
    "class Product:\n",
    "    def __init__(self, name, price, quantity):\n",
    "        self.name = name\n",
    "        self.price = price\n",
    "        self.quantity = quantity\n",
    "\n",
    "    def total_price(self):\n",
    "        return self.price * self.quantity\n",
    "\n",
    "    def __str__(self):\n",
    "        return f\"Product: {self.name}, Price: ${self.price:.2f}, Quantity: {self.quantity}, Total Cost: ${self.total_price():.2f}\"\n",
    "\n",
    "# Example usage\n",
    "product1 = Product(\"Laptop\", 800, 2)\n",
    "product2 = Product(\"Phone\", 500, 3)\n",
    "\n",
    "print(product1)  # Output: Product: Laptop, Price: $800.00, Quantity: 2, Total Cost: $1600.00\n",
    "print(product2)  # Output: Product: Phone, Price: $500.00, Quantity: 3, Total Cost: $1500.00\n"
   ]
  },
  {
   "cell_type": "markdown",
   "id": "18dc4901-54e1-4aed-81f2-912ef1a2248f",
   "metadata": {},
   "source": [
    "16. #### Create a class Animal with an abstract method sound(). Create two derived classes Cow and Sheep that implement the sound() method."
   ]
  },
  {
   "cell_type": "code",
   "execution_count": 16,
   "id": "ff21c8db-49a8-48e3-92b6-076970366193",
   "metadata": {},
   "outputs": [
    {
     "name": "stdout",
     "output_type": "stream",
     "text": [
      "Cow says: Moo\n",
      "Sheep says: Baa\n"
     ]
    }
   ],
   "source": [
    "# Answer\n",
    "# Code\n",
    "\n",
    "from abc import ABC, abstractmethod\n",
    "\n",
    "class Animal(ABC):\n",
    "    @abstractmethod\n",
    "    def sound(self):\n",
    "        pass  # Abstract method (must be implemented in derived classes)\n",
    "\n",
    "class Cow(Animal):\n",
    "    def sound(self):\n",
    "        return \"Moo\"\n",
    "\n",
    "class Sheep(Animal):\n",
    "    def sound(self):\n",
    "        return \"Baa\"\n",
    "\n",
    "# Example usage\n",
    "cow = Cow()\n",
    "sheep = Sheep()\n",
    "\n",
    "print(f\"Cow says: {cow.sound()}\")   # Output: Cow says: Moo\n",
    "print(f\"Sheep says: {sheep.sound()}\")  # Output: Sheep says: Baa\n"
   ]
  },
  {
   "cell_type": "markdown",
   "id": "eacf34e9-55c0-4f4c-95dd-ca3658091a72",
   "metadata": {},
   "source": [
    "17. #### Create a class Book with attributes title, author, and year_published. Add a method get_book_info() that returns a formatted string with the book's details."
   ]
  },
  {
   "cell_type": "code",
   "execution_count": 17,
   "id": "d5ea6c66-ed98-43b5-bd62-7a92af665366",
   "metadata": {},
   "outputs": [
    {
     "name": "stdout",
     "output_type": "stream",
     "text": [
      "'To Kill a Mockingbird' by Harper Lee, published in 1960.\n",
      "'1984' by George Orwell, published in 1949.\n"
     ]
    }
   ],
   "source": [
    "# Answer\n",
    "# Code\n",
    "\n",
    "class Book:\n",
    "    def __init__(self, title, author, year_published):\n",
    "        self.title = title\n",
    "        self.author = author\n",
    "        self.year_published = year_published\n",
    "\n",
    "    def get_book_info(self):\n",
    "        return f\"'{self.title}' by {self.author}, published in {self.year_published}.\"\n",
    "\n",
    "    def __str__(self):\n",
    "        return self.get_book_info()\n",
    "\n",
    "# Example usage\n",
    "book1 = Book(\"To Kill a Mockingbird\", \"Harper Lee\", 1960)\n",
    "book2 = Book(\"1984\", \"George Orwell\", 1949)\n",
    "\n",
    "print(book1.get_book_info())  # Output: 'To Kill a Mockingbird' by Harper Lee, published in 1960.\n",
    "print(book2)  # Output: '1984' by George Orwell, published in 1949.\n"
   ]
  },
  {
   "cell_type": "markdown",
   "id": "471b5acb-b7cb-4c94-a3de-e6a69c6178d1",
   "metadata": {},
   "source": [
    "18. #### Create a class House with attributes address and price. Create a derived class Mansion that adds an attribute number_of_rooms."
   ]
  },
  {
   "cell_type": "code",
   "execution_count": 19,
   "id": "46348aea-bb2b-4044-82d5-48c48f559b3a",
   "metadata": {},
   "outputs": [
    {
     "name": "stdout",
     "output_type": "stream",
     "text": [
      "House located at 123 Main St, priced at $250,000.00.\n",
      "Mansion located at 456 Luxury Ave, priced at $5,000,000.00, with 15 rooms.\n"
     ]
    }
   ],
   "source": [
    "# Answer\n",
    "# Code\n",
    "\n",
    "class House:\n",
    "    def __init__(self, address, price):\n",
    "        self.address = address\n",
    "        self.price = price\n",
    "\n",
    "    def __str__(self):\n",
    "        return f\"House located at {self.address}, priced at ${self.price:,.2f}.\"\n",
    "\n",
    "class Mansion(House):\n",
    "    def __init__(self, address, price, number_of_rooms):\n",
    "        super().__init__(address, price)\n",
    "        self.number_of_rooms = number_of_rooms\n",
    "\n",
    "    def __str__(self):\n",
    "        return f\"Mansion located at {self.address}, priced at ${self.price:,.2f}, with {self.number_of_rooms} rooms.\"\n",
    "\n",
    "# Example usage\n",
    "house = House(\"123 Main St\", 250000)\n",
    "mansion = Mansion(\"456 Luxury Ave\", 5000000, 15)\n",
    "\n",
    "print(house)   # Output: House located at 123 Main St, priced at $250,000.00.\n",
    "print(mansion) # Output: Mansion located at 456 Luxury Ave, priced at $5,000,000.00, with 15 rooms.\n"
   ]
  },
  {
   "cell_type": "code",
   "execution_count": null,
   "id": "2b1c79f4-40c0-41f9-a4d1-453be24bfbc3",
   "metadata": {},
   "outputs": [],
   "source": []
  }
 ],
 "metadata": {
  "kernelspec": {
   "display_name": "Python 3 (ipykernel)",
   "language": "python",
   "name": "python3"
  },
  "language_info": {
   "codemirror_mode": {
    "name": "ipython",
    "version": 3
   },
   "file_extension": ".py",
   "mimetype": "text/x-python",
   "name": "python",
   "nbconvert_exporter": "python",
   "pygments_lexer": "ipython3",
   "version": "3.12.7"
  }
 },
 "nbformat": 4,
 "nbformat_minor": 5
}
